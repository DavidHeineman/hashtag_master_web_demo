{
 "cells": [
  {
   "cell_type": "code",
   "execution_count": 7,
   "metadata": {},
   "outputs": [
    {
     "name": "stdout",
     "output_type": "stream",
     "text": [
      "Loading resources\n",
      "Done loading resources\n",
      "Loading model: mse_multi.pkl\n"
     ]
    }
   ],
   "source": [
    "from config import get_resources\n",
    "from models import mse_ranker, mr_ranker, mse_multi_ranker, mr_multi_ranker\n",
    "from utils.feature_extractor import FeatureExtractor\n",
    "from utils.word_segmenter import segment_word\n",
    "from utils.rerank import *\n",
    "import kenlm\n",
    "import torch\n",
    "\n",
    "class argumentcust:\n",
    "  def __init__(self, model, modeldir, lm, topk):\n",
    "    self.model = model\n",
    "    self.modeldir = modeldir\n",
    "    self.lm = lm\n",
    "    self.topk = topk\n",
    "\n",
    "args = argumentcust('mse_multi',\n",
    "                    'trained_models/',\n",
    "                    'language_model/small_gt.bin',\n",
    "                   10)\n",
    "\n",
    "# Load language model\n",
    "language_model = kenlm.LanguageModel(args.lm)\n",
    "\n",
    "# Load feature extractor\n",
    "feature_extractor = FeatureExtractor(get_resources(), args.model)\n",
    "\n",
    "# Load deep learning model\n",
    "print('Loading model: ' + args.model + '.pkl')\n",
    "model = torch.load(args.modeldir + args.model + '.pkl')"
   ]
  },
  {
   "cell_type": "code",
   "execution_count": 8,
   "metadata": {},
   "outputs": [
    {
     "name": "stdout",
     "output_type": "stream",
     "text": [
      "Origional candidates: \n",
      "['atlanta midtown', 'atlanta mid town', 'at lanta midtown', 'atlant a midtown']\n",
      "\n",
      "Reranked candidates: \n",
      "['atlanta midtown', 'atlanta mid town', 'at lanta midtown', 'atlan ta midtown']\n"
     ]
    }
   ],
   "source": [
    "target = 'atlantamidtown'\n",
    "\n",
    "candidates = segment_word(target, args.topk, language_model)\n",
    "feats = []\n",
    "for seg in candidates:\n",
    "    fv = feature_extractor._get_features_for_segmentation(seg, candidates[0])\n",
    "    feats.append(fv)\n",
    "reranked = rerank(candidates, feats, model, args.model)\n",
    "print(\"Origional candidates: \\n\" + str(candidates[0:4]))\n",
    "print(\"\\nReranked candidates: \\n\" + str(reranked[0:4]))"
   ]
  },
  {
   "cell_type": "code",
   "execution_count": null,
   "metadata": {},
   "outputs": [],
   "source": [
    "from execute "
   ]
  }
 ],
 "metadata": {
  "kernelspec": {
   "display_name": "Python 3 Root Install",
   "language": "python",
   "name": "python3"
  },
  "language_info": {
   "codemirror_mode": {
    "name": "ipython",
    "version": 3
   },
   "file_extension": ".py",
   "mimetype": "text/x-python",
   "name": "python",
   "nbconvert_exporter": "python",
   "pygments_lexer": "ipython3",
   "version": "3.9.0"
  }
 },
 "nbformat": 4,
 "nbformat_minor": 4
}
